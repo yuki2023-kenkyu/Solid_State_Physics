{
 "cells": [
  {
   "cell_type": "markdown",
   "metadata": {},
   "source": [
    "# 課題"
   ]
  },
  {
   "cell_type": "markdown",
   "metadata": {},
   "source": [
    "## ①エネルギー行列の対角化"
   ]
  },
  {
   "cell_type": "markdown",
   "metadata": {},
   "source": [
    "### 必要なライブラリのインポート"
   ]
  },
  {
   "cell_type": "code",
   "execution_count": 1,
   "metadata": {},
   "outputs": [],
   "source": [
    "#%matplotlib notebook\n",
    "import numpy as np\n",
    "import matplotlib.pyplot as plt"
   ]
  },
  {
   "cell_type": "markdown",
   "metadata": {},
   "source": [
    "### 対角化を実行する関数の定義"
   ]
  },
  {
   "cell_type": "code",
   "execution_count": 2,
   "metadata": {},
   "outputs": [],
   "source": [
    "def eig_diag(x):\n",
    "\teig = np.linalg.eig(x)\n",
    "\te = np.diag(eig[0])\n",
    "\tp = eig[1]\n",
    "\treturn e, p"
   ]
  },
  {
   "cell_type": "markdown",
   "metadata": {},
   "source": [
    "### スピン軌道相互作用によるエネルギー行列の定義"
   ]
  },
  {
   "cell_type": "code",
   "execution_count": 3,
   "metadata": {},
   "outputs": [],
   "source": [
    "spin_energy_matrix = np.array([[0.5, 0, 0, 0, 0, 0],\n",
    "                               [0, -0.5, 0.5*np.sqrt(2), 0, 0, 0],\n",
    "                               [0, 0.5*np.sqrt(2), 0, 0, 0, 0],\n",
    "                               [0, 0, 0, 0, 0.5*np.sqrt(2), 0],\n",
    "                               [0, 0, 0, 0.5*np.sqrt(2), -0.5, 0],\n",
    "                               [0, 0, 0, 0, 0, 0.5]])"
   ]
  },
  {
   "cell_type": "markdown",
   "metadata": {},
   "source": [
    "### エネルギー行列の対角化の実行"
   ]
  },
  {
   "cell_type": "code",
   "execution_count": 4,
   "metadata": {},
   "outputs": [
    {
     "name": "stdout",
     "output_type": "stream",
     "text": [
      "0.0625\n"
     ]
    }
   ],
   "source": [
    "det_spin_energy_matrix = np.linalg.det(spin_energy_matrix)\n",
    "# 行列式が０でないことを確認\n",
    "print(det_spin_energy_matrix)"
   ]
  },
  {
   "cell_type": "code",
   "execution_count": 5,
   "metadata": {},
   "outputs": [],
   "source": [
    "# エネルギー行列の固有値と固有ベクトルを取得\n",
    "e1 = eig_diag(spin_energy_matrix)"
   ]
  },
  {
   "cell_type": "code",
   "execution_count": 6,
   "metadata": {},
   "outputs": [],
   "source": [
    "# 対角化された行列と固有ベクトルを別々の変数に格納\n",
    "d1 = e1[0]\n",
    "p1 = e1[1]"
   ]
  },
  {
   "cell_type": "markdown",
   "metadata": {},
   "source": [
    "### 対角化した行列と固有ベクトルの確認"
   ]
  },
  {
   "cell_type": "code",
   "execution_count": 7,
   "metadata": {},
   "outputs": [
    {
     "name": "stdout",
     "output_type": "stream",
     "text": [
      "[[-1.   0.   0.   0.   0.   0. ]\n",
      " [ 0.   0.5  0.   0.   0.   0. ]\n",
      " [ 0.   0.   0.5  0.   0.   0. ]\n",
      " [ 0.   0.   0.  -1.   0.   0. ]\n",
      " [ 0.   0.   0.   0.   0.5  0. ]\n",
      " [ 0.   0.   0.   0.   0.   0.5]]\n",
      "[[ 0.          0.          0.          0.          1.          0.        ]\n",
      " [ 0.          0.          0.57735027 -0.81649658  0.          0.        ]\n",
      " [ 0.          0.          0.81649658  0.57735027  0.          0.        ]\n",
      " [ 0.57735027  0.81649658  0.          0.          0.          0.        ]\n",
      " [-0.81649658  0.57735027  0.          0.          0.          0.        ]\n",
      " [ 0.          0.          0.          0.          0.          1.        ]]\n"
     ]
    }
   ],
   "source": [
    "print(d1)\n",
    "print(p1)"
   ]
  },
  {
   "cell_type": "markdown",
   "metadata": {},
   "source": [
    "## ②ゼーマンエネルギーを加えた6行6列のエネルギー行列の作成"
   ]
  },
  {
   "cell_type": "markdown",
   "metadata": {},
   "source": [
    "### ゼーマンエネルギー行列の作成(磁場Bを除く)"
   ]
  },
  {
   "cell_type": "markdown",
   "metadata": {},
   "source": [
    "$$\n",
    "E = \n",
    "\\begin{pmatrix}\n",
    "    2& 0& 0& 0& 0& 0 \\\\\n",
    "    0& 0& 0& 0& 0& 0 \\\\\n",
    "    0& 0& 1& 0& 0& 0 \\\\\n",
    "    0& 0& 0& -1& 0& 0 \\\\\n",
    "    0& 0& 0& 0& 0& 0 \\\\\n",
    "    0& 0& 0& 0& 0& -2\n",
    "\\end{pmatrix}\n",
    "$$"
   ]
  },
  {
   "cell_type": "code",
   "execution_count": 8,
   "metadata": {},
   "outputs": [],
   "source": [
    "zeeman_energy_matrix = np.array([[2, 0, 0, 0, 0, 0],\n",
    "                                 [0, 0, 0, 0, 0, 0],\n",
    "                                 [0, 0, 1, 0, 0, 0],\n",
    "                                 [0, 0, 0, -1, 0, 0],\n",
    "                                 [0, 0, 0, 0, 0, 0],\n",
    "                                 [0, 0, 0, 0, 0, -2]])"
   ]
  },
  {
   "cell_type": "markdown",
   "metadata": {},
   "source": [
    "## ③グラフの作成"
   ]
  },
  {
   "cell_type": "markdown",
   "metadata": {},
   "source": [
    "### 初期設定"
   ]
  },
  {
   "cell_type": "code",
   "execution_count": 9,
   "metadata": {},
   "outputs": [],
   "source": [
    "zeta = 1\n",
    "hbar = 1\n",
    "B_points = np.arange(0, 1, 0.01)\n",
    "energy_points = []"
   ]
  },
  {
   "cell_type": "code",
   "execution_count": 21,
   "metadata": {},
   "outputs": [],
   "source": [
    "e2 = eig_diag(hbar**2 *zeta*spin_energy_matrix + 0.4*zeeman_energy_matrix)"
   ]
  },
  {
   "cell_type": "code",
   "execution_count": 22,
   "metadata": {},
   "outputs": [
    {
     "name": "stdout",
     "output_type": "stream",
     "text": [
      "[[-1.15887234  0.          0.          0.          0.          0.        ]\n",
      " [ 0.          0.25887234  0.          0.          0.          0.        ]\n",
      " [ 0.          0.          0.78815273  0.          0.          0.        ]\n",
      " [ 0.          0.          0.         -0.88815273  0.          0.        ]\n",
      " [ 0.          0.          0.          0.          1.3         0.        ]\n",
      " [ 0.          0.          0.          0.          0.         -0.3       ]]\n"
     ]
    }
   ],
   "source": [
    "print(e2[0])"
   ]
  },
  {
   "cell_type": "markdown",
   "metadata": {},
   "source": [
    "### 対角化などの繰り返し処理"
   ]
  },
  {
   "cell_type": "code",
   "execution_count": 12,
   "metadata": {},
   "outputs": [],
   "source": [
    "for B in B_points:\n",
    "    # スピン軌道相互作用によるエネルギー行列にゼーマンエネルギーを加える\n",
    "    energy_matrix = zeta* hbar**2 *spin_energy_matrix + B*hbar*zeeman_energy_matrix\n",
    "    # 対角化の実行\n",
    "    e = eig_diag(energy_matrix)\n",
    "    # 対角化後の行列を取り出す\n",
    "    d = e[0]\n",
    "    # リストに追加\n",
    "    energy_points.append(d)"
   ]
  },
  {
   "cell_type": "code",
   "execution_count": 13,
   "metadata": {},
   "outputs": [],
   "source": [
    "# リストから配列へと変換\n",
    "energy_points = np.array(energy_points)"
   ]
  },
  {
   "cell_type": "markdown",
   "metadata": {},
   "source": [
    "### グラフ化用"
   ]
  },
  {
   "cell_type": "code",
   "execution_count": 14,
   "metadata": {},
   "outputs": [
    {
     "data": {
      "text/plain": [
       "Text(0, 0.5, 'energy')"
      ]
     },
     "execution_count": 14,
     "metadata": {},
     "output_type": "execute_result"
    },
    {
     "data": {
      "image/png": "[encoded data removed]",
      "text/plain": [
       "<Figure size 576x432 with 1 Axes>"
      ]
     },
     "metadata": {},
     "output_type": "display_data"
    }
   ],
   "source": [
    "# グラフの各種設定\n",
    "fig = plt.figure(\n",
    "    figsize = (8, 6),\n",
    "    facecolor = \"white\",\n",
    "    edgecolor = \"black\",\n",
    ")\n",
    "# グラフの出力位置の設定\n",
    "ax = fig.add_subplot(1, 1, 1)\n",
    "# 磁場によるエネルギー準位の変化をプロット\n",
    "for i in range(6):\n",
    "    if(i==0)|(i==3):\n",
    "        ax.plot(B_points, energy_points[:, i, i], '.',  color = 'blue', markersize = 3)\n",
    "    else:\n",
    "        ax.plot(B_points, energy_points[:, i, i], '.', color = 'red', markersize = 3)\n",
    "ax.set_xlabel(\"$B$\")\n",
    "ax.set_ylabel(\"energy\")\n",
    "#ax.legend(loc = 'best')"
   ]
  },
  {
   "cell_type": "code",
   "execution_count": 15,
   "metadata": {},
   "outputs": [],
   "source": [
    "#https://science-and-technology.net/simu-kun/?tag=%E3%82%BC%E3%83%BC%E3%83%9E%E3%83%B3%E5%8A%B9%E6%9E%9C"
   ]
  },
  {
   "cell_type": "code",
   "execution_count": 16,
   "metadata": {},
   "outputs": [],
   "source": [
    "# グラフの保存\n",
    "import datetime\n",
    "import pytz\n",
    "time = datetime.datetime.now(pytz.timezone('Asia/Tokyo'))\n",
    "#(年、月、日付、時、分、秒、マイクロ秒)\n",
    "\n",
    "#見やすい形に変換\n",
    "time = time.strftime('%m%d_energy_1.png')\n",
    "# 図の保存\n",
    "fig.savefig(time, facecolor = fig.get_facecolor())"
   ]
  }
 ],
 "metadata": {
  "kernelspec": {
   "display_name": "Python 3",
   "language": "python",
   "name": "python3"
  },
  "language_info": {
   "codemirror_mode": {
    "name": "ipython",
    "version": 3
   },
   "file_extension": ".py",
   "mimetype": "text/x-python",
   "name": "python",
   "nbconvert_exporter": "python",
   "pygments_lexer": "ipython3",
   "version": "3.7.9"
  }
 },
 "nbformat": 4,
 "nbformat_minor": 4
}
