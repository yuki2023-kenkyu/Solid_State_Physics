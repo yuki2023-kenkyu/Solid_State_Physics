{
 "cells": [
  {
   "cell_type": "code",
   "execution_count": 1,
   "metadata": {},
   "outputs": [],
   "source": [
    "import numpy as np\n",
    "import pandas as pd\n",
    "import matplotlib.pyplot as plt\n",
    "from mpl_toolkits.mplot3d import axes3d\n",
    "import seaborn as sns\n",
    "import datetime\n",
    "import pytz"
   ]
  },
  {
   "cell_type": "code",
   "execution_count": 2,
   "metadata": {},
   "outputs": [],
   "source": [
    "# Up Right Down Left # 時計回り\n",
    "u_r_d_l = [(-1, 0), (0, 1), (1, 0), (0, -1)]\n",
    "def get_index(location_num, u_r_d_l):\n",
    "    index_array = location_num + np.array(u_r_d_l)\n",
    "    # 周期境界条件\n",
    "    index_array = np.where(index_array==-1, grid_number-1, index_array)\n",
    "    index_array = np.where(index_array==grid_number, 0, index_array)\n",
    "    return index_array"
   ]
  },
  {
   "cell_type": "code",
   "execution_count": 3,
   "metadata": {},
   "outputs": [],
   "source": [
    "def state_update(state_m1, grid_number, J_kt, B, dim):\n",
    "    i = np.random.randint(grid_number)\n",
    "    j = np.random.randint(grid_number)\n",
    "    location = (i, j)\n",
    "    index_array = get_index(location, u_r_d_l)\n",
    "    g = np.sum([state_m1[:, i, j]*state_m1[:, index_array[k, 0], index_array[k, 1]] for k in range(index_array.shape[0])])\n",
    "    alpha = -2*(J_kt*g + B*np.sum(state_m1[:, i, j]))\n",
    "    if(np.random.rand() < np.exp(alpha)):\n",
    "        state_m1[:, i, j] = -state_m1[:, i, j]\n",
    "    return state_m1.copy()"
   ]
  },
  {
   "cell_type": "code",
   "execution_count": 4,
   "metadata": {},
   "outputs": [],
   "source": [
    "def calc_by_temp(Spin_array, grid_number, step_count, J_kt, B, dim, slice_num):\n",
    "    Spin_array_cp = Spin_array.copy()\n",
    "    state_list = np.array([state_update(Spin_array_cp, grid_number, J_kt, B, dim) for l in range(step_count)])\n",
    "    state_result = state_list[-slice_num:]\n",
    "    return state_result"
   ]
  },
  {
   "cell_type": "code",
   "execution_count": 5,
   "metadata": {},
   "outputs": [],
   "source": [
    "grid_number = 10\n",
    "step_count = 100000\n",
    "grid_space = 0.1\n",
    "dim = 1\n",
    "num = 100\n",
    "slice_num = 10\n",
    "J_kt_array = np.linspace(1, 0.1, num)\n",
    "B = 0"
   ]
  },
  {
   "cell_type": "code",
   "execution_count": 6,
   "metadata": {},
   "outputs": [],
   "source": [
    "np.random.seed(100)\n",
    "Sx = np.random.choice([-1, 1], (grid_number, grid_number))\n",
    "#Sy = np.random.choice([-1, 1], (grid_number, grid_number))"
   ]
  },
  {
   "cell_type": "code",
   "execution_count": 7,
   "metadata": {},
   "outputs": [],
   "source": [
    "Spin_array = np.array([Sx])"
   ]
  },
  {
   "cell_type": "code",
   "execution_count": 8,
   "metadata": {},
   "outputs": [
    {
     "data": {
      "text/plain": [
       "<AxesSubplot:>"
      ]
     },
     "execution_count": 8,
     "metadata": {},
     "output_type": "execute_result"
    },
    {
     "data": {
      "image/png": "[encoded data removed]",
      "text/plain": [
       "<Figure size 640x480 with 2 Axes>"
      ]
     },
     "metadata": {},
     "output_type": "display_data"
    }
   ],
   "source": [
    "fig_1 = plt.figure()\n",
    "ax_1 = fig_1.add_subplot(1, 1, 1)\n",
    "sns.heatmap(Spin_array[0], cmap=\"Greys\", vmin=-1, vmax=1, square=True, linewidths=0.5, ax = ax_1)"
   ]
  },
  {
   "cell_type": "code",
   "execution_count": null,
   "metadata": {},
   "outputs": [],
   "source": [
    "state_result = np.array([calc_by_temp(Spin_array, grid_number, step_count, J_kt, B, dim, slice_num) for J_kt in J_kt_array])"
   ]
  },
  {
   "cell_type": "code",
   "execution_count": null,
   "metadata": {},
   "outputs": [],
   "source": [
    "fig_3 = plt.figure()\n",
    "ax_3 = fig_3.add_subplot(1, 1, 1)\n",
    "sns.heatmap(state_result[0][0][0][:, :], cmap=\"Greys\", vmin=-1, vmax=1, square=True, linewidths=0.5, ax = ax_3)"
   ]
  },
  {
   "cell_type": "code",
   "execution_count": null,
   "metadata": {},
   "outputs": [],
   "source": [
    "#sum_list = np.array([np.abs(np.mean(state_result[i][0, :, :])) for i in range(len(J_kt_array))])\n",
    "sum_list = np.array([[[np.abs(np.mean(state_result[i][j][k, :, :])) for i in range(len(J_kt_array))] for j in range(slice_num)] for k in range(dim)])\n",
    "total_m = np.array([[np.sum(sum_list[:, i, j]) for j in range(num)]for i in range(slice_num)])"
   ]
  },
  {
   "cell_type": "code",
   "execution_count": null,
   "metadata": {},
   "outputs": [],
   "source": [
    "ave_array = np.average(total_m, axis=0)\n",
    "median_array = np.median(total_m, axis=0)"
   ]
  },
  {
   "cell_type": "code",
   "execution_count": null,
   "metadata": {},
   "outputs": [],
   "source": [
    "total_m.shape"
   ]
  },
  {
   "cell_type": "markdown",
   "metadata": {},
   "source": [
    "### 不変標準偏差の計算\n",
    "#### https://algorithm.joho.info/programming/python-numpy-unbiased-standard-deviation/\n",
    "#### https://dreamer-uma.com/mcmc-ising/"
   ]
  },
  {
   "cell_type": "code",
   "execution_count": null,
   "metadata": {},
   "outputs": [],
   "source": [
    "#std_list = np.array([np.abs(np.std(state_result[i][0, :, :], ddof=1)) for i in range(len(J_kt_array))])"
   ]
  },
  {
   "cell_type": "code",
   "execution_count": null,
   "metadata": {},
   "outputs": [],
   "source": [
    "# グラフ化用\n",
    "fig_2 = plt.figure(\n",
    "    figsize = (8, 6),\n",
    "    facecolor = 'white'\n",
    ")\n",
    "# グラフの背景色の設定\n",
    "ax_2 = fig_2.add_subplot(1, 1, 1)\n",
    "# グラフ化用\n",
    "# https://pystyle.info/matplotlib-invert-axis/\n",
    "ax_2.invert_xaxis()\n",
    "#ax_2.errorbar(J_kt_array, sum_list, yerr=std_list, capsize=3, fmt='o', ecolor = 'pink')\n",
    "ax_2.plot(J_kt_array, ave_array, '-', label = r'$Average \\ per \\ Monte \\ Carlo \\ step$', color = 'blue', markersize = 2.0)\n",
    "[ax_2.plot(J_kt_array, total_m[i], '.', color = 'black', markersize = 3.0) for i in range(total_m.shape[0])]\n",
    "# https://www.haya-programming.com/entry/2018/10/11/131716\n",
    "ax_2.set_facecolor((1,1,1,0))\n",
    "# ラベルの設定\n",
    "ax_2.set_xlabel(r\"$J/k_B T$ [K]\")\n",
    "ax_2.set_ylabel(r\"$M$[A/m]\")\n",
    "# 凡例の設定\n",
    "ax_2.legend(loc = 'best')"
   ]
  },
  {
   "cell_type": "code",
   "execution_count": null,
   "metadata": {},
   "outputs": [],
   "source": [
    "time = datetime.datetime.now(pytz.timezone('Asia/Tokyo'))\n",
    "#(年、月、日付、時、分、秒、マイクロ秒)\n",
    "#見やすい形に変換\n",
    "time = time.strftime('%m%d_monte_1213_Ising_2D_2.png')\n",
    "# 図の保存\n",
    "fig_2.savefig(time, facecolor = fig_2.get_facecolor())"
   ]
  }
 ],
 "metadata": {
  "kernelspec": {
   "display_name": "Python 3 (ipykernel)",
   "language": "python",
   "name": "python3"
  },
  "language_info": {
   "codemirror_mode": {
    "name": "ipython",
    "version": 3
   },
   "file_extension": ".py",
   "mimetype": "text/x-python",
   "name": "python",
   "nbconvert_exporter": "python",
   "pygments_lexer": "ipython3",
   "version": "3.7.16"
  }
 },
 "nbformat": 4,
 "nbformat_minor": 4
}
