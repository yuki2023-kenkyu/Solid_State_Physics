{
 "cells": [
  {
   "cell_type": "code",
   "execution_count": 1,
   "metadata": {},
   "outputs": [],
   "source": [
    "import numpy as np\n",
    "import scipy as sp\n",
    "from scipy.sparse import dia_matrix,identity\n",
    "import matplotlib.pyplot as plt\n",
    "from matplotlib import animation\n",
    "from IPython.display import HTML\n",
    "import datetime\n",
    "import pytz"
   ]
  },
  {
   "cell_type": "markdown",
   "metadata": {},
   "source": [
    "### 格子点の設定"
   ]
  },
  {
   "cell_type": "code",
   "execution_count": 2,
   "metadata": {},
   "outputs": [],
   "source": [
    "χ = 1.0\n",
    "ntmax = 1000\n",
    "nxmax = 101"
   ]
  },
  {
   "cell_type": "markdown",
   "metadata": {},
   "source": [
    "### 刻み幅のm設定"
   ]
  },
  {
   "cell_type": "code",
   "execution_count": 3,
   "metadata": {},
   "outputs": [],
   "source": [
    "Δt = 5.0e-5\n",
    "x0 = 0\n",
    "xmax = 1\n",
    "Δx = (xmax - x0)/(nxmax-1)\n",
    "r = χ*Δt/(Δx**2)"
   ]
  },
  {
   "cell_type": "markdown",
   "metadata": {},
   "source": [
    "### 三重対角行列の生成\n",
    "### https://teru-hide.com/cfd-python-diagonal-matrix/"
   ]
  },
  {
   "cell_type": "code",
   "execution_count": 4,
   "metadata": {},
   "outputs": [],
   "source": [
    "data = np.array([r*np.ones(nxmax), -2.0*r*np.ones(nxmax), r*np.ones(nxmax)])\n",
    "offsets = np.array([-1.0, 0.0, 1.0])\n",
    "# 対角行列の生成\n",
    "B = dia_matrix((data, offsets), shape = (nxmax, nxmax))\n",
    "# 単位対角行列の生成\n",
    "E = identity(nxmax)\n",
    "A = E + B"
   ]
  },
  {
   "cell_type": "markdown",
   "metadata": {},
   "source": [
    "### 境界条件"
   ]
  },
  {
   "cell_type": "code",
   "execution_count": 5,
   "metadata": {},
   "outputs": [],
   "source": [
    "boundary = np.zeros(nxmax)\n",
    "#boundary[0] = 0\n",
    "#boundary[nxmax-1] = 0"
   ]
  },
  {
   "cell_type": "markdown",
   "metadata": {},
   "source": [
    "### 初期条件"
   ]
  },
  {
   "cell_type": "code",
   "execution_count": 6,
   "metadata": {},
   "outputs": [],
   "source": [
    "#T_n = np.ones(nxmax)\n",
    "x = np.arange(x0, xmax+Δx, Δx)\n",
    "T_n = np.sin(x*np.pi)\n",
    "T_np1 = np.zeros([nxmax, ntmax])\n",
    "T_np1[:, 0] = T_n"
   ]
  },
  {
   "cell_type": "markdown",
   "metadata": {},
   "source": [
    "### 時間発展の計算"
   ]
  },
  {
   "cell_type": "code",
   "execution_count": 7,
   "metadata": {},
   "outputs": [],
   "source": [
    "for n in range(1, ntmax):\n",
    "    T_np1[:, n] = A@T_np1[:, n-1] + r*boundary"
   ]
  },
  {
   "cell_type": "code",
   "execution_count": 8,
   "metadata": {},
   "outputs": [
    {
     "data": {
      "text/plain": [
       "array([0.01895962, 0.03790053, 0.05680753, 0.07565846, 0.09444169,\n",
       "       0.11313171, 0.13172043, 0.15017917, 0.16850335, 0.18666125,\n",
       "       0.20465179, 0.22244036, 0.24002932, 0.25738139, 0.27450227,\n",
       "       0.29135224, 0.30794019, 0.32422424, 0.34021634, 0.3558727 ,\n",
       "       0.37120819, 0.38617735, 0.40079785, 0.41502281, 0.42887255,\n",
       "       0.44229904, 0.45532508, 0.46790177, 0.48005424, 0.49173294,\n",
       "       0.50296521, 0.51370111, 0.52397   , 0.53372179, 0.54298777,\n",
       "       0.55171788, 0.55994521, 0.56761994, 0.57477685, 0.58136652,\n",
       "       0.58742533, 0.59290441, 0.59784167, 0.60218892, 0.60598549,\n",
       "       0.60918403, 0.6118252 , 0.61386258, 0.61533813, 0.61620641,\n",
       "       0.61651062, 0.61620641, 0.61533813, 0.61386258, 0.6118252 ,\n",
       "       0.60918403, 0.60598549, 0.60218892, 0.59784167, 0.59290441,\n",
       "       0.58742533, 0.58136652, 0.57477685, 0.56761994, 0.55994521,\n",
       "       0.55171788, 0.54298777, 0.53372179, 0.52397   , 0.51370111,\n",
       "       0.50296521, 0.49173294, 0.48005424, 0.46790177, 0.45532508,\n",
       "       0.44229904, 0.42887255, 0.41502281, 0.40079785, 0.38617735,\n",
       "       0.37120819, 0.3558727 , 0.34021634, 0.32422424, 0.30794019,\n",
       "       0.29135224, 0.27450227, 0.25738139, 0.24002932, 0.22244036,\n",
       "       0.20465179, 0.18666125, 0.16850335, 0.15017917, 0.13172043,\n",
       "       0.11313171, 0.09444169, 0.07565846, 0.05680753, 0.03790053,\n",
       "       0.01895962])"
      ]
     },
     "execution_count": 8,
     "metadata": {},
     "output_type": "execute_result"
    }
   ],
   "source": [
    "T_np1[:, ntmax-1]"
   ]
  },
  {
   "cell_type": "code",
   "execution_count": 9,
   "metadata": {},
   "outputs": [
    {
     "data": {
      "text/plain": [
       "'\\nT_n = np.sin(x*np.pi)\\nfor n in range(ntmax):\\n    T_np1_d = A@T_n + r*boundary\\n    T_n = T_np1_d\\n    t = (n+1)*Δt\\n'"
      ]
     },
     "execution_count": 9,
     "metadata": {},
     "output_type": "execute_result"
    }
   ],
   "source": [
    "\"\"\"\n",
    "T_n = np.sin(x*np.pi)\n",
    "for n in range(ntmax):\n",
    "    T_np1_d = A@T_n + r*boundary\n",
    "    T_n = T_np1_d\n",
    "    t = (n+1)*Δt\n",
    "\"\"\""
   ]
  },
  {
   "cell_type": "code",
   "execution_count": 10,
   "metadata": {},
   "outputs": [],
   "source": [
    "def anim_update(frame_count):\n",
    "    ax_1.clear()\n",
    "    ax_1.set_xlim(0, 1)\n",
    "    ax_1.set_ylim(0, 1)\n",
    "    ax_1.set_xlabel(r\"$X$\")\n",
    "    ax_1.set_ylabel(r\"$T$\")\n",
    "    ax_1.plot(x, T_np1[:, frame_count], label = r\"$\\Delta t = 5.0 \\times 10^{-5}$\")\n",
    "    ax_1.legend(loc = \"best\")\n",
    "    fig_1.suptitle('Time = ' + str(frame_count*Δt))"
   ]
  },
  {
   "cell_type": "code",
   "execution_count": 11,
   "metadata": {},
   "outputs": [
    {
     "data": {
      "image/png": "[encoded data removed]",
      "text/plain": [
       "<Figure size 720x432 with 1 Axes>"
      ]
     },
     "metadata": {
      "needs_background": "light"
     },
     "output_type": "display_data"
    }
   ],
   "source": [
    "fig_1 = plt.figure(figsize = (10, 6))\n",
    "ax_1 = fig_1.add_subplot(1, 1, 1)\n",
    "anim = animation.FuncAnimation(fig_1, anim_update, interval=0.01, frames=ntmax)\n",
    "time = datetime.datetime.now(pytz.timezone('Asia/Tokyo'))\n",
    "#(年、月、日付、時、分、秒、マイクロ秒)\n",
    "#見やすい形に変換\n",
    "time = time.strftime('%m%d_pde_0124kadai_3.gif')\n",
    "anim.save(time, writer=\"pillow\")"
   ]
  },
  {
   "cell_type": "code",
   "execution_count": null,
   "metadata": {},
   "outputs": [],
   "source": []
  }
 ],
 "metadata": {
  "kernelspec": {
   "display_name": "Python 3 (ipykernel)",
   "language": "python",
   "name": "python3"
  },
  "language_info": {
   "codemirror_mode": {
    "name": "ipython",
    "version": 3
   },
   "file_extension": ".py",
   "mimetype": "text/x-python",
   "name": "python",
   "nbconvert_exporter": "python",
   "pygments_lexer": "ipython3",
   "version": "3.7.16"
  }
 },
 "nbformat": 4,
 "nbformat_minor": 4
}
