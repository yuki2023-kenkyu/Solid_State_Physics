{
 "cells": [
  {
   "cell_type": "code",
   "execution_count": 1,
   "metadata": {},
   "outputs": [],
   "source": [
    "import numpy as np\n",
    "# 高速化用\n",
    "from numba import njit, f8, i8, b1, void, prange\n",
    "# 実行時間測定用\n",
    "import time\n",
    "# グラフ化用\n",
    "import matplotlib.pyplot as plt\n",
    "from matplotlib.ticker import ScalarFormatter\n",
    "import datetime\n",
    "import pytz"
   ]
  },
  {
   "cell_type": "markdown",
   "metadata": {},
   "source": [
    "### コードの高速化（numbaによる並列処理）\n",
    "### https://qiita.com/SatoshiTerasaki/items/00aaf16b0d4a6b4121f5\n",
    "### https://qiita.com/nabenabe0928/items/a02964d8b48619b1e348\n",
    "### https://qiita.com/yniji/items/d012bb9f938e0445a3ff"
   ]
  },
  {
   "cell_type": "markdown",
   "metadata": {},
   "source": [
    "### numpy.randomの使い方\n",
    "### https://note.nkmk.me/python-numpy-random/"
   ]
  },
  {
   "cell_type": "markdown",
   "metadata": {},
   "source": [
    "### 半径1の円の面積を計算する関数"
   ]
  },
  {
   "cell_type": "code",
   "execution_count": 2,
   "metadata": {},
   "outputs": [],
   "source": [
    "@njit(f8[:](i8[:], f8[:]), cache=True, parallel=True)\n",
    "def calc_area(n_array, area_circle):\n",
    "    for i in prange(len(n_array)):\n",
    "        # 疑似乱数ジェネレータを初期化して乱数シードを固定\n",
    "        np.random.seed(0)\n",
    "        # 各成分で0~1までの乱数をn_array[i]個生成\n",
    "        x = np.random.rand(n_array[i])\n",
    "        y = np.random.rand(n_array[i])\n",
    "        # 原点からの距離の計算\n",
    "        r_sq = x*x + y*y\n",
    "        # 点が円の内部にある場合のr_sqの個数の和を計算する\n",
    "        counter = np.sum(r_sq < 1.0)\n",
    "        # 円の面積の計算\n",
    "        area_circle[i] = 4*counter/n_array[i]\n",
    "    return area_circle"
   ]
  },
  {
   "cell_type": "code",
   "execution_count": 3,
   "metadata": {},
   "outputs": [],
   "source": [
    "# 試行回数を配列にしなかった場合\n",
    "@njit(cache=True, parallel=True)\n",
    "def calc_area_n(n_count):\n",
    "    # 疑似乱数ジェネレータを初期化して乱数シードを固定\n",
    "    np.random.seed(0)\n",
    "    # 各成分で0~1までの乱数をn_array[i]個生成\n",
    "    x = np.random.rand(n_count)\n",
    "    y = np.random.rand(n_count)\n",
    "    # 原点からの距離の計算\n",
    "    r_sq = x*x + y*y\n",
    "    # 点が円の内部にある場合のr_sqの個数の和を計算する\n",
    "    counter = np.sum(r_sq < 1.0)\n",
    "    # 円の面積の計算\n",
    "    area_circle = 4*counter/n_count\n",
    "    return area_circle"
   ]
  },
  {
   "cell_type": "markdown",
   "metadata": {},
   "source": [
    "### 半径1の球の体積を計算する関数"
   ]
  },
  {
   "cell_type": "code",
   "execution_count": 4,
   "metadata": {},
   "outputs": [],
   "source": [
    "@njit(f8[:](i8[:], f8[:]), cache=True, parallel=True)\n",
    "def calc_volume(n_array, volume_sphere):\n",
    "    for i in prange(len(n_array)):\n",
    "        # 疑似乱数ジェネレータを初期化して乱数シードを固定\n",
    "        np.random.seed(0)\n",
    "        # 各成分で0~1までの乱数をn_array[i]個生成\n",
    "        x = np.random.rand(n_array[i])\n",
    "        y = np.random.rand(n_array[i])\n",
    "        z = np.random.rand(n_array[i])\n",
    "        # 原点からの距離の計算\n",
    "        r_sq = x*x + y*y + z*z\n",
    "        # 点が球の内部にある場合のr_sqの個数の和を計算する\n",
    "        counter = np.sum(r_sq < 1.0)\n",
    "        # 球の体積の計算\n",
    "        volume_sphere[i] = 8*counter/n_array[i]\n",
    "    return volume_sphere"
   ]
  },
  {
   "cell_type": "code",
   "execution_count": 5,
   "metadata": {},
   "outputs": [],
   "source": [
    "@njit(cache=True, parallel=True)\n",
    "def calc_volume_n(n_count):\n",
    "    # 疑似乱数ジェネレータを初期化して乱数シードを固定\n",
    "    np.random.seed(0)\n",
    "    # 各成分で0~1までの乱数をn_array[i]個生成\n",
    "    x = np.random.rand(n_count)\n",
    "    y = np.random.rand(n_count)\n",
    "    z = np.random.rand(n_count)\n",
    "    # 原点からの距離の計算\n",
    "    r_sq = x*x + y*y + z*z\n",
    "    # 点が球の内部にある場合のr_sqの個数の和を計算する\n",
    "    counter = np.sum(r_sq < 1.0)\n",
    "    # 球の体積の計算\n",
    "    volume_sphere = 8*counter/n_count\n",
    "    return volume_sphere"
   ]
  },
  {
   "cell_type": "markdown",
   "metadata": {},
   "source": [
    "### 発生させる乱数の要素数に関する設定と配列の用意"
   ]
  },
  {
   "cell_type": "code",
   "execution_count": 6,
   "metadata": {},
   "outputs": [],
   "source": [
    "# 試行回数の最小値(10^1)\n",
    "min_n = 1\n",
    "# 試行回数の最大値(10^11)\n",
    "max_n = 11\n",
    "# 配列の要素数\n",
    "number_n = max_n-min_n+1"
   ]
  },
  {
   "cell_type": "markdown",
   "metadata": {},
   "source": [
    "### 等比数列の生成\n",
    "### https://algorithm.joho.info/programming/python/numpy-logspace/"
   ]
  },
  {
   "cell_type": "code",
   "execution_count": 7,
   "metadata": {},
   "outputs": [],
   "source": [
    "# 試行回数を格納する配列の用意\n",
    "n_array = np.logspace(min_n, max_n, number_n, base=10, dtype=\"int64\")"
   ]
  },
  {
   "cell_type": "code",
   "execution_count": 8,
   "metadata": {},
   "outputs": [],
   "source": [
    "#配列をfloat型からint型に変換\n",
    "#https://natu-ym.com/python-list-conv/\n",
    "#n_array = np.array(list(map(int, n_array)))"
   ]
  },
  {
   "cell_type": "code",
   "execution_count": 9,
   "metadata": {},
   "outputs": [
    {
     "data": {
      "text/plain": [
       "array([          10,          100,         1000,        10000,\n",
       "             100000,      1000000,     10000000,    100000000,\n",
       "         1000000000,  10000000000, 100000000000], dtype=int64)"
      ]
     },
     "execution_count": 9,
     "metadata": {},
     "output_type": "execute_result"
    }
   ],
   "source": [
    "n_array"
   ]
  },
  {
   "cell_type": "code",
   "execution_count": 10,
   "metadata": {},
   "outputs": [],
   "source": [
    "n_count = 10**12\n",
    "n_count = int(n_count)"
   ]
  },
  {
   "cell_type": "markdown",
   "metadata": {},
   "source": [
    "### 計算結果を格納する配列の用意（0で初期化）"
   ]
  },
  {
   "cell_type": "code",
   "execution_count": 11,
   "metadata": {},
   "outputs": [],
   "source": [
    "# 円の面積の計算結果を格納する配列\n",
    "area_circle = np.zeros(n_array.shape)\n",
    "# 円の体積の計算結果を格納する配列\n",
    "volume_sphere = np.zeros(n_array.shape)"
   ]
  },
  {
   "cell_type": "code",
   "execution_count": 12,
   "metadata": {},
   "outputs": [
    {
     "data": {
      "text/plain": [
       "3.141591035624"
      ]
     },
     "execution_count": 12,
     "metadata": {},
     "output_type": "execute_result"
    }
   ],
   "source": [
    "calc_area_n(n_count)"
   ]
  },
  {
   "cell_type": "code",
   "execution_count": 13,
   "metadata": {},
   "outputs": [
    {
     "data": {
      "text/plain": [
       "4.18879013784"
      ]
     },
     "execution_count": 13,
     "metadata": {},
     "output_type": "execute_result"
    }
   ],
   "source": [
    "calc_volume_n(n_count)"
   ]
  },
  {
   "cell_type": "markdown",
   "metadata": {},
   "source": [
    "### 関数の実行時間の計測"
   ]
  },
  {
   "cell_type": "code",
   "execution_count": 14,
   "metadata": {},
   "outputs": [
    {
     "name": "stdout",
     "output_type": "stream",
     "text": [
      "Calculation Time =  28.06579086383184 [min]\n"
     ]
    }
   ],
   "source": [
    "# 実行時間の計測\n",
    "t0 = time.time()\n",
    "calc_area(n_array, area_circle)\n",
    "t1 = time.time()\n",
    "calc_time = float(t1-t0)\n",
    "print(\"Calculation Time = \",calc_time/60,\"[min]\")"
   ]
  },
  {
   "cell_type": "markdown",
   "metadata": {},
   "source": [
    "### 試行回数nが $10^1\\leq n \\leq10^{11}$ までの結果"
   ]
  },
  {
   "cell_type": "code",
   "execution_count": 15,
   "metadata": {},
   "outputs": [
    {
     "data": {
      "text/plain": [
       "array([2.8       , 3.32      , 3.06      , 3.1552    , 3.13304   ,\n",
       "       3.140936  , 3.142358  , 3.14167324, 3.14161848, 3.14159406,\n",
       "       3.1415955 ])"
      ]
     },
     "execution_count": 15,
     "metadata": {},
     "output_type": "execute_result"
    }
   ],
   "source": [
    "area_circle"
   ]
  },
  {
   "cell_type": "code",
   "execution_count": 16,
   "metadata": {},
   "outputs": [
    {
     "data": {
      "text/plain": [
       "array([2.4       , 4.08      , 4.008     , 4.1784    , 4.18352   ,\n",
       "       4.186096  , 4.1891328 , 4.18904016, 4.18880928, 4.18868594,\n",
       "       4.18879756])"
      ]
     },
     "execution_count": 16,
     "metadata": {},
     "output_type": "execute_result"
    }
   ],
   "source": [
    "calc_volume(n_array, volume_sphere)"
   ]
  },
  {
   "cell_type": "markdown",
   "metadata": {},
   "source": [
    "### 真の値との比較用"
   ]
  },
  {
   "cell_type": "code",
   "execution_count": 17,
   "metadata": {},
   "outputs": [],
   "source": [
    "# 円周率\n",
    "true_area = np.pi*np.ones(len(n_array))\n",
    "# 円の体積\n",
    "true_volume = 4*np.pi/3 *np.ones(len(n_array))"
   ]
  },
  {
   "cell_type": "code",
   "execution_count": 18,
   "metadata": {},
   "outputs": [
    {
     "data": {
      "text/plain": [
       "array([3.14159265, 3.14159265, 3.14159265, 3.14159265, 3.14159265,\n",
       "       3.14159265, 3.14159265, 3.14159265, 3.14159265, 3.14159265,\n",
       "       3.14159265])"
      ]
     },
     "execution_count": 18,
     "metadata": {},
     "output_type": "execute_result"
    }
   ],
   "source": [
    "true_area"
   ]
  },
  {
   "cell_type": "code",
   "execution_count": 19,
   "metadata": {},
   "outputs": [
    {
     "data": {
      "text/plain": [
       "array([4.1887902, 4.1887902, 4.1887902, 4.1887902, 4.1887902, 4.1887902,\n",
       "       4.1887902, 4.1887902, 4.1887902, 4.1887902, 4.1887902])"
      ]
     },
     "execution_count": 19,
     "metadata": {},
     "output_type": "execute_result"
    }
   ],
   "source": [
    "true_volume"
   ]
  },
  {
   "cell_type": "markdown",
   "metadata": {},
   "source": [
    "### グラフ化"
   ]
  },
  {
   "cell_type": "markdown",
   "metadata": {},
   "source": [
    "### 軸のフォントサイズの設定\n",
    "### https://qiita.com/eriho/items/21302ab7e95a2721b9f8\n",
    "### https://www.delftstack.com/ja/howto/matplotlib/how-to-set-tick-labels-font-size-in-matplotlib/"
   ]
  },
  {
   "cell_type": "code",
   "execution_count": 24,
   "metadata": {},
   "outputs": [
    {
     "data": {
      "text/plain": [
       "<matplotlib.legend.Legend at 0x2374740a8c8>"
      ]
     },
     "execution_count": 24,
     "metadata": {},
     "output_type": "execute_result"
    },
    {
     "data": {
      "image/png": "[encoded data removed]",
      "text/plain": [
       "<Figure size 576x432 with 1 Axes>"
      ]
     },
     "metadata": {},
     "output_type": "display_data"
    }
   ],
   "source": [
    "# グラフの各種設定\n",
    "fig = plt.figure(\n",
    "    figsize = (8, 6),\n",
    "    facecolor = \"white\",\n",
    "    edgecolor = \"black\",\n",
    ")\n",
    "# グラフの出力位置の設定\n",
    "ax = fig.add_subplot(1, 1, 1)\n",
    "# グラフのプロット\n",
    "ax.plot(n_array, area_circle, '.', label = r'Monte Carlo Simulation', color = 'blue', markersize = 4.0)\n",
    "ax.plot(n_array, true_area, '--', label = r'$\\pi$', color = 'red', markersize = 2.0)\n",
    "# グラフの指数表示\n",
    "ax.yaxis.set_major_formatter(ScalarFormatter(useMathText=True))\n",
    "ax.ticklabel_format(style=\"sci\",  axis=\"y\",scilimits=(0,0))\n",
    "# 軸目盛のフォントサイズの変更\n",
    "ax.tick_params(axis='x', labelsize=10)\n",
    "ax.tick_params(axis='y', labelsize=10)\n",
    "# 軸ラベルの設定\n",
    "ax.set_xscale(\"log\")\n",
    "ax.set_xlabel(r\"$Number \\ of \\ Trials$\", fontsize = 12)\n",
    "ax.set_ylabel(r\"$Area \\ of \\ Circle$\", fontsize = 12)\n",
    "# 凡例の設定\n",
    "ax.legend(loc = 'lower right', fontsize = 12)"
   ]
  },
  {
   "cell_type": "code",
   "execution_count": 21,
   "metadata": {},
   "outputs": [],
   "source": [
    "time = datetime.datetime.now(pytz.timezone('Asia/Tokyo'))\n",
    "#(年、月、日付、時、分、秒、マイクロ秒)\n",
    "\n",
    "#見やすい形に変換\n",
    "time = time.strftime('%m%d_monte_3_area.png')\n",
    "# 図の保存\n",
    "fig.savefig(time, facecolor = fig.get_facecolor())"
   ]
  },
  {
   "cell_type": "code",
   "execution_count": 22,
   "metadata": {},
   "outputs": [
    {
     "data": {
      "text/plain": [
       "<matplotlib.legend.Legend at 0x237472dbe48>"
      ]
     },
     "execution_count": 22,
     "metadata": {},
     "output_type": "execute_result"
    },
    {
     "data": {
      "image/png": "[encoded data removed]",
      "text/plain": [
       "<Figure size 576x432 with 1 Axes>"
      ]
     },
     "metadata": {},
     "output_type": "display_data"
    }
   ],
   "source": [
    "# グラフの各種設定\n",
    "fig2 = plt.figure(\n",
    "    figsize = (8, 6),\n",
    "    facecolor = \"white\",\n",
    "    edgecolor = \"black\",\n",
    ")\n",
    "# グラフの出力位置の設定\n",
    "ax2 = fig2.add_subplot(1, 1, 1)\n",
    "# グラフのプロット\n",
    "ax2.plot(n_array, volume_sphere, '.', label = r'Monte Carlo Simulation', color = 'blue', markersize = 4.0)\n",
    "ax2.plot(n_array, true_volume, '--', label = r'$\\frac{4}{3} \\ \\pi$', color = 'red', markersize = 2.0)\n",
    "# グラフの指数表示\n",
    "ax2.yaxis.set_major_formatter(ScalarFormatter(useMathText=True))\n",
    "ax2.ticklabel_format(style=\"sci\",  axis=\"y\",scilimits=(0,0))\n",
    "# 軸目盛のフォントサイズの変更\n",
    "ax2.tick_params(axis='x', labelsize=12)\n",
    "ax2.tick_params(axis='y', labelsize=12)\n",
    "ax2.set_xscale(\"log\")\n",
    "ax2.set_xlabel(r\"$Number \\ of \\ Trials$\", fontsize = 14)\n",
    "ax2.set_ylabel(r\"$Volume \\ of \\ Sphere$\", fontsize = 14)\n",
    "ax2.legend(loc = 'best', fontsize = 12)"
   ]
  },
  {
   "cell_type": "code",
   "execution_count": 23,
   "metadata": {},
   "outputs": [],
   "source": [
    "time = datetime.datetime.now(pytz.timezone('Asia/Tokyo'))\n",
    "#(年、月、日付、時、分、秒、マイクロ秒)\n",
    "\n",
    "#見やすい形に変換\n",
    "time = time.strftime('%m%d_monte_3_volume.png')\n",
    "# 図の保存\n",
    "fig2.savefig(time, facecolor = fig2.get_facecolor())"
   ]
  },
  {
   "cell_type": "code",
   "execution_count": null,
   "metadata": {},
   "outputs": [],
   "source": []
  }
 ],
 "metadata": {
  "kernelspec": {
   "display_name": "Python 3",
   "language": "python",
   "name": "python3"
  },
  "language_info": {
   "codemirror_mode": {
    "name": "ipython",
    "version": 3
   },
   "file_extension": ".py",
   "mimetype": "text/x-python",
   "name": "python",
   "nbconvert_exporter": "python",
   "pygments_lexer": "ipython3",
   "version": "3.7.9"
  }
 },
 "nbformat": 4,
 "nbformat_minor": 4
}
