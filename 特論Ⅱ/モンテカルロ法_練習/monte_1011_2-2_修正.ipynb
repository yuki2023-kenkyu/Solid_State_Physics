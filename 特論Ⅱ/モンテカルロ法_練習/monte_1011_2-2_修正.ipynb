{
 "cells": [
  {
   "cell_type": "code",
   "execution_count": 1,
   "metadata": {},
   "outputs": [],
   "source": [
    "#%matplotlib notebook\n",
    "import numpy as np\n",
    "# 高速化用\n",
    "from numba import njit, f8, i8, b1, void, prange\n",
    "# 実行時間測定用\n",
    "import time\n",
    "# グラフ化用\n",
    "import matplotlib.pyplot as plt\n",
    "from mpl_toolkits.mplot3d import axes3d\n",
    "from matplotlib.ticker import ScalarFormatter\n",
    "import datetime\n",
    "import pytz"
   ]
  },
  {
   "cell_type": "markdown",
   "metadata": {},
   "source": [
    "### コードの高速化（numbaによる並列処理）\n",
    "### https://qiita.com/SatoshiTerasaki/items/00aaf16b0d4a6b4121f5\n",
    "### https://qiita.com/nabenabe0928/items/a02964d8b48619b1e348\n",
    "### https://qiita.com/yniji/items/d012bb9f938e0445a3ff"
   ]
  },
  {
   "cell_type": "markdown",
   "metadata": {},
   "source": [
    "### numpy.randomの使い方\n",
    "### https://note.nkmk.me/python-numpy-random/"
   ]
  },
  {
   "cell_type": "markdown",
   "metadata": {},
   "source": [
    "### 試行回数の設定"
   ]
  },
  {
   "cell_type": "code",
   "execution_count": 2,
   "metadata": {},
   "outputs": [],
   "source": [
    "n_count = 10**8\n",
    "n_count = int(n_count)\n",
    "rand_init = 1\n",
    "# 乱数発生領域の面積\n",
    "area_of_entire_region = 2*rand_init"
   ]
  },
  {
   "cell_type": "markdown",
   "metadata": {},
   "source": [
    "### モンテカルロシミュレーションの実行"
   ]
  },
  {
   "cell_type": "code",
   "execution_count": 3,
   "metadata": {},
   "outputs": [],
   "source": [
    "# 疑似乱数ジェネレータを初期化して乱数シードを固定\n",
    "np.random.seed(0)\n",
    "# 各成分で0~1までの乱数をn_count個生成\n",
    "# 下記のように多次元配列を用いると試行回数10**10以上でMemoryErrorが発生する\n",
    "x = np.random.uniform(-rand_init, rand_init, n_count)\n",
    "y = np.random.uniform(0, 1, n_count)\n",
    "# 判定用\n",
    "R = np.exp(-x**2)\n",
    "counter = np.count_nonzero((y < R))\n",
    "integrate_result = area_of_entire_region*counter/n_count"
   ]
  },
  {
   "cell_type": "code",
   "execution_count": 4,
   "metadata": {},
   "outputs": [
    {
     "data": {
      "text/plain": [
       "1.49371858"
      ]
     },
     "execution_count": 4,
     "metadata": {},
     "output_type": "execute_result"
    }
   ],
   "source": [
    "integrate_result"
   ]
  },
  {
   "cell_type": "code",
   "execution_count": 5,
   "metadata": {},
   "outputs": [],
   "source": [
    "# インデックスの取得\n",
    "index_array = np.where((y < R))[0]\n",
    "# インデックスを基に条件に当てはまる要素を元の配列から抽出\n",
    "result_array = np.array([np.array([x[i],y[i]]) for i in index_array])"
   ]
  },
  {
   "cell_type": "markdown",
   "metadata": {},
   "source": [
    "### $\\int^\\infty_{-\\infty}{e^{-x^2}}dx = \\sqrt(\\pi)$"
   ]
  },
  {
   "cell_type": "code",
   "execution_count": 6,
   "metadata": {},
   "outputs": [
    {
     "data": {
      "text/plain": [
       "1.7724538509055159"
      ]
     },
     "execution_count": 6,
     "metadata": {},
     "output_type": "execute_result"
    }
   ],
   "source": [
    "true_value = np.sqrt(np.pi)\n",
    "#error = true_value-integrate_result\n",
    "true_value"
   ]
  },
  {
   "cell_type": "markdown",
   "metadata": {},
   "source": [
    "### 信頼区間の計算"
   ]
  },
  {
   "cell_type": "code",
   "execution_count": 7,
   "metadata": {},
   "outputs": [
    {
     "name": "stdout",
     "output_type": "stream",
     "text": [
      "信頼区間： 84.2740463587746 [%]\n"
     ]
    }
   ],
   "source": [
    "confidence_interval = 100* integrate_result/true_value\n",
    "print(\"信頼区間：\", confidence_interval, \"[%]\")"
   ]
  },
  {
   "cell_type": "markdown",
   "metadata": {},
   "source": [
    "### 試行回数に対する割合 [%]"
   ]
  },
  {
   "cell_type": "code",
   "execution_count": 8,
   "metadata": {},
   "outputs": [
    {
     "name": "stdout",
     "output_type": "stream",
     "text": [
      "試行回数に対する割合： 74.685929 [%]\n"
     ]
    }
   ],
   "source": [
    "percent_area = 100*counter/n_count\n",
    "print(\"試行回数に対する割合：\", percent_area, \"[%]\")"
   ]
  },
  {
   "cell_type": "markdown",
   "metadata": {},
   "source": [
    "### 解析解のグラフ用"
   ]
  },
  {
   "cell_type": "code",
   "execution_count": 9,
   "metadata": {},
   "outputs": [],
   "source": [
    "analytical_x = np.linspace(-5, 5, 100)\n",
    "analytical_y = np.exp(-analytical_x**2)"
   ]
  },
  {
   "cell_type": "markdown",
   "metadata": {},
   "source": [
    "### グラフ化"
   ]
  },
  {
   "cell_type": "markdown",
   "metadata": {},
   "source": [
    "### 軸のフォントサイズの設定\n",
    "### https://qiita.com/eriho/items/21302ab7e95a2721b9f8\n",
    "### https://www.delftstack.com/ja/howto/matplotlib/how-to-set-tick-labels-font-size-in-matplotlib/"
   ]
  },
  {
   "cell_type": "code",
   "execution_count": 10,
   "metadata": {},
   "outputs": [
    {
     "data": {
      "text/plain": [
       "<matplotlib.legend.Legend at 0x2348cd2c908>"
      ]
     },
     "execution_count": 10,
     "metadata": {},
     "output_type": "execute_result"
    },
    {
     "data": {
      "image/png": "[encoded data removed]",
      "text/plain": [
       "<Figure size 576x432 with 1 Axes>"
      ]
     },
     "metadata": {},
     "output_type": "display_data"
    }
   ],
   "source": [
    "# グラフの各種設定\n",
    "fig = plt.figure(\n",
    "    figsize = (8, 6),\n",
    "    facecolor = \"white\",\n",
    "    edgecolor = \"black\",\n",
    ")\n",
    "# グラフの出力位置の設定\n",
    "ax = fig.add_subplot(111)\n",
    "# グラフのプロット\n",
    "ax.plot(result_array[:, 0], result_array[:, 1], \".\", label = r'Monte Carlo Simulation', color = 'yellow', markersize = 1.0, alpha = 1.0)\n",
    "ax.plot(analytical_x, analytical_y, \"-\", label = r'Analytical Solution', color = 'green', markersize = 1.0)\n",
    "# グラフの指数表示\n",
    "ax.yaxis.set_major_formatter(ScalarFormatter(useMathText=True))\n",
    "ax.ticklabel_format(style=\"sci\",  axis=\"y\",scilimits=(0,0))\n",
    "# 軸目盛のフォントサイズの変更\n",
    "ax.tick_params(axis='x', labelsize=12)\n",
    "ax.tick_params(axis='y', labelsize=12)\n",
    "# 軸ラベルの設定\n",
    "#ax.set_xscale(\"log\")\n",
    "ax.set_xlabel(r\"$x$\", fontsize = 14)\n",
    "ax.set_ylabel(r\"$y$\", fontsize = 14)\n",
    "# 凡例の設定\n",
    "ax.legend(loc = 'upper right', fontsize = 12)"
   ]
  },
  {
   "cell_type": "code",
   "execution_count": 11,
   "metadata": {},
   "outputs": [],
   "source": [
    "time = datetime.datetime.now(pytz.timezone('Asia/Tokyo'))\n",
    "#(年、月、日付、時、分、秒、マイクロ秒)\n",
    "\n",
    "#見やすい形に変換\n",
    "time = time.strftime('%m%d_monte_1011kadai_2-2_1.png')\n",
    "# 図の保存\n",
    "fig.savefig(time, facecolor = fig.get_facecolor())"
   ]
  }
 ],
 "metadata": {
  "kernelspec": {
   "display_name": "Python 3",
   "language": "python",
   "name": "python3"
  },
  "language_info": {
   "codemirror_mode": {
    "name": "ipython",
    "version": 3
   },
   "file_extension": ".py",
   "mimetype": "text/x-python",
   "name": "python",
   "nbconvert_exporter": "python",
   "pygments_lexer": "ipython3",
   "version": "3.7.9"
  }
 },
 "nbformat": 4,
 "nbformat_minor": 4
}
