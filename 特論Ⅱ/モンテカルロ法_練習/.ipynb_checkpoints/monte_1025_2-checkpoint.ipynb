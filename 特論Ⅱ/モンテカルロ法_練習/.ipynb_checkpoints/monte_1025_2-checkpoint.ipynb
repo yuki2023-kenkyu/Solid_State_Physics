{
 "cells": [
  {
   "cell_type": "code",
   "execution_count": 1,
   "metadata": {},
   "outputs": [],
   "source": [
    "#%matplotlib notebook\n",
    "import numpy as np\n",
    "import pandas as pd\n",
    "from scipy.optimize import curve_fit\n",
    "# 高速化用\n",
    "from numba import njit, f8, i8, b1, void, prange\n",
    "# 実行時間測定用\n",
    "import time\n",
    "# 近似曲線の描画\n",
    "from scipy.interpolate import interp1d\n",
    "# グラフ化用\n",
    "import matplotlib.pyplot as plt\n",
    "from mpl_toolkits.mplot3d import axes3d\n",
    "from matplotlib.ticker import ScalarFormatter\n",
    "import datetime\n",
    "import pytz"
   ]
  },
  {
   "cell_type": "code",
   "execution_count": 2,
   "metadata": {},
   "outputs": [],
   "source": [
    "@njit(cache=True, parallel=True)\n",
    "def count_function(n_count, distance, distance_array, data_array, x, y, z):\n",
    "    for h in distance_array:\n",
    "        count = 0\n",
    "        for i in prange(n_count):\n",
    "            if(z[i] > 0):\n",
    "                a = (h/z[i])*x[i]\n",
    "                b = (h/z[i])*y[i]\n",
    "                if((a**2 + b**2)<(0.5*distance)**2):\n",
    "                    count += 1\n",
    "        data_array[int(h-1)] = count"
   ]
  },
  {
   "cell_type": "markdown",
   "metadata": {},
   "source": [
    "### https://www.slideshare.net/ssuserf87701/python-143732429"
   ]
  },
  {
   "cell_type": "code",
   "execution_count": 3,
   "metadata": {},
   "outputs": [],
   "source": [
    "def nonlinear_fit(x, a, b, c):\n",
    "    return b * x**a + c"
   ]
  },
  {
   "cell_type": "code",
   "execution_count": 4,
   "metadata": {},
   "outputs": [],
   "source": [
    "n_count = 10**7\n",
    "distance = 2.0\n",
    "h_max = 50\n",
    "h_min = 1"
   ]
  },
  {
   "cell_type": "code",
   "execution_count": 5,
   "metadata": {},
   "outputs": [],
   "source": [
    "# https://www.headboost.jp/how-to-create-an-array/#index_id3\n",
    "distance_array = np.linspace(h_min, h_max, num=h_max, endpoint=True)\n",
    "data_array = np.zeros(len(distance_array))"
   ]
  },
  {
   "cell_type": "code",
   "execution_count": 6,
   "metadata": {},
   "outputs": [
    {
     "data": {
      "text/plain": [
       "array([ 1.,  2.,  3.,  4.,  5.,  6.,  7.,  8.,  9., 10., 11., 12., 13.,\n",
       "       14., 15., 16., 17., 18., 19., 20., 21., 22., 23., 24., 25., 26.,\n",
       "       27., 28., 29., 30., 31., 32., 33., 34., 35., 36., 37., 38., 39.,\n",
       "       40., 41., 42., 43., 44., 45., 46., 47., 48., 49., 50.])"
      ]
     },
     "execution_count": 6,
     "metadata": {},
     "output_type": "execute_result"
    }
   ],
   "source": [
    "distance_array"
   ]
  },
  {
   "cell_type": "code",
   "execution_count": 9,
   "metadata": {},
   "outputs": [],
   "source": [
    "np.random.seed(0)\n",
    "theta = np.arccos(1-2*np.random.rand(n_count))\n",
    "r = np.sin(theta)\n",
    "eta = 2*np.pi*np.random.rand(n_count)"
   ]
  },
  {
   "cell_type": "code",
   "execution_count": 10,
   "metadata": {},
   "outputs": [],
   "source": [
    "x = np.cos(theta)\n",
    "y = r * np.sin(eta)\n",
    "z = r * np.cos(eta)"
   ]
  },
  {
   "cell_type": "code",
   "execution_count": 11,
   "metadata": {},
   "outputs": [],
   "source": [
    "count_function(n_count, distance, distance_array, data_array, x, y, z)"
   ]
  },
  {
   "cell_type": "code",
   "execution_count": 12,
   "metadata": {},
   "outputs": [
    {
     "data": {
      "text/plain": [
       "array([1.46446609e+06, 5.27864045e+05, 2.56583510e+05, 1.49287499e+05,\n",
       "       9.70966215e+04, 6.80303808e+04, 5.02525317e+04, 3.86106164e+04,\n",
       "       3.05813266e+04, 2.48140490e+04, 2.05339677e+04, 1.72712088e+04,\n",
       "       1.47275725e+04, 1.27065008e+04, 1.10742107e+04, 9.73710759e+03,\n",
       "       8.62813413e+03, 7.69823397e+03, 6.91085334e+03, 6.23830561e+03,\n",
       "       5.65931138e+03, 5.15729895e+03, 4.71920822e+03, 4.33463454e+03,\n",
       "       3.99520639e+03, 3.69412684e+03, 3.42583117e+03, 3.18572826e+03,\n",
       "       2.97000323e+03, 2.77546510e+03, 2.59942830e+03, 2.43961956e+03,\n",
       "       2.29410427e+03, 2.16122768e+03, 2.03956770e+03, 1.92789674e+03,\n",
       "       1.82515064e+03, 1.73040324e+03, 1.64284545e+03, 1.56176796e+03,\n",
       "       1.48654678e+03, 1.41663128e+03, 1.35153402e+03, 1.29082228e+03,\n",
       "       1.23411084e+03, 1.18105588e+03, 1.13134971e+03, 1.08471636e+03,\n",
       "       1.04090768e+03, 9.99700100e+02])"
      ]
     },
     "execution_count": 12,
     "metadata": {},
     "output_type": "execute_result"
    }
   ],
   "source": [
    "G_array = 0.5*(1-distance_array/np.sqrt(distance_array**2 + (0.5*distance)**2))*n_count\n",
    "G_array"
   ]
  },
  {
   "cell_type": "code",
   "execution_count": 13,
   "metadata": {},
   "outputs": [],
   "source": [
    "# https://liginc.co.jp/566229\n",
    "curv_fit = interp1d(distance_array, data_array, kind = 'cubic')\n",
    "new_distance = np.linspace(h_min, h_max, num=100, endpoint=True)"
   ]
  },
  {
   "cell_type": "code",
   "execution_count": 14,
   "metadata": {},
   "outputs": [],
   "source": [
    "param_init = [1, -2, 0]"
   ]
  },
  {
   "cell_type": "code",
   "execution_count": 15,
   "metadata": {},
   "outputs": [],
   "source": [
    "p_opt, cov = curve_fit(nonlinear_fit, distance_array, data_array, p0 = param_init, maxfev = 10**8)\n",
    "y_fit = np.vectorize(nonlinear_fit)"
   ]
  },
  {
   "cell_type": "code",
   "execution_count": 16,
   "metadata": {},
   "outputs": [
    {
     "data": {
      "text/plain": [
       "array([-1.57252527e+00,  1.47997948e+06, -6.50093287e+03])"
      ]
     },
     "execution_count": 16,
     "metadata": {},
     "output_type": "execute_result"
    }
   ],
   "source": [
    "p_opt"
   ]
  },
  {
   "cell_type": "code",
   "execution_count": 34,
   "metadata": {},
   "outputs": [
    {
     "data": {
      "text/plain": [
       "<matplotlib.legend.Legend at 0x1d19dab0088>"
      ]
     },
     "execution_count": 34,
     "metadata": {},
     "output_type": "execute_result"
    },
    {
     "data": {
      "image/png": "[encoded data removed]",
      "text/plain": [
       "<Figure size 576x432 with 1 Axes>"
      ]
     },
     "metadata": {},
     "output_type": "display_data"
    }
   ],
   "source": [
    "# グラフ化用\n",
    "fig = plt.figure(\n",
    "    figsize = (8, 6),\n",
    "    facecolor = 'white'\n",
    ")\n",
    "# グラフの背景色の設定\n",
    "ax = fig.add_subplot(1, 1, 1)\n",
    "# グラフ化用\n",
    "ax.plot(distance_array, data_array, '.', label = 'Monte Carlo Simulation', color = 'green')\n",
    "ax.plot(new_distance, curv_fit(new_distance), '--', label = 'Cubic spline interpolation', color = 'orange')\n",
    "ax.plot(distance_array, y_fit(distance_array, p_opt[0], p_opt[1], p_opt[2]), '-.', label = 'Power Approximation', color = 'purple')\n",
    "ax.plot(distance_array, G_array, '-', label =r'$G=\\frac{1}{2} \\left( 1-\\frac{h}{\\sqrt{h^2 + (d/2)^2}} \\right)$', color = 'blue', alpha=0.5)\n",
    "\n",
    "ax.yaxis.set_major_formatter(ScalarFormatter(useMathText=True))\n",
    "ax.ticklabel_format(style=\"sci\",  axis=\"y\",scilimits=(0,0))\n",
    "\n",
    "# ラベルの設定\n",
    "ax.set_xlabel(r\"$h$[mm]\")\n",
    "ax.set_ylabel(r\"$Count$[cpm]\")\n",
    "# 凡例の設定\n",
    "ax.legend(loc = 'best')"
   ]
  },
  {
   "cell_type": "code",
   "execution_count": 35,
   "metadata": {},
   "outputs": [],
   "source": [
    "time = datetime.datetime.now(pytz.timezone('Asia/Tokyo'))\n",
    "#(年、月、日付、時、分、秒、マイクロ秒)\n",
    "\n",
    "#見やすい形に変換\n",
    "time = time.strftime('%m%d_monte_1025kadai_2.png')\n",
    "# 図の保存\n",
    "fig.savefig(time, facecolor = fig.get_facecolor())"
   ]
  },
  {
   "cell_type": "code",
   "execution_count": 19,
   "metadata": {},
   "outputs": [
    {
     "data": {
      "text/html": [
       "<div>\n",
       "<style scoped>\n",
       "    .dataframe tbody tr th:only-of-type {\n",
       "        vertical-align: middle;\n",
       "    }\n",
       "\n",
       "    .dataframe tbody tr th {\n",
       "        vertical-align: top;\n",
       "    }\n",
       "\n",
       "    .dataframe thead th {\n",
       "        text-align: right;\n",
       "    }\n",
       "</style>\n",
       "<table border=\"1\" class=\"dataframe\">\n",
       "  <thead>\n",
       "    <tr style=\"text-align: right;\">\n",
       "      <th></th>\n",
       "      <th>Distance</th>\n",
       "      <th>Count</th>\n",
       "    </tr>\n",
       "  </thead>\n",
       "  <tbody>\n",
       "    <tr>\n",
       "      <th>0</th>\n",
       "      <td>1.0</td>\n",
       "      <td>1466047.0</td>\n",
       "    </tr>\n",
       "    <tr>\n",
       "      <th>1</th>\n",
       "      <td>2.0</td>\n",
       "      <td>527979.0</td>\n",
       "    </tr>\n",
       "    <tr>\n",
       "      <th>2</th>\n",
       "      <td>3.0</td>\n",
       "      <td>256832.0</td>\n",
       "    </tr>\n",
       "    <tr>\n",
       "      <th>3</th>\n",
       "      <td>4.0</td>\n",
       "      <td>149450.0</td>\n",
       "    </tr>\n",
       "    <tr>\n",
       "      <th>4</th>\n",
       "      <td>5.0</td>\n",
       "      <td>97222.0</td>\n",
       "    </tr>\n",
       "    <tr>\n",
       "      <th>5</th>\n",
       "      <td>6.0</td>\n",
       "      <td>68187.0</td>\n",
       "    </tr>\n",
       "    <tr>\n",
       "      <th>6</th>\n",
       "      <td>7.0</td>\n",
       "      <td>50420.0</td>\n",
       "    </tr>\n",
       "    <tr>\n",
       "      <th>7</th>\n",
       "      <td>8.0</td>\n",
       "      <td>38830.0</td>\n",
       "    </tr>\n",
       "    <tr>\n",
       "      <th>8</th>\n",
       "      <td>9.0</td>\n",
       "      <td>30801.0</td>\n",
       "    </tr>\n",
       "    <tr>\n",
       "      <th>9</th>\n",
       "      <td>10.0</td>\n",
       "      <td>24888.0</td>\n",
       "    </tr>\n",
       "  </tbody>\n",
       "</table>\n",
       "</div>"
      ],
      "text/plain": [
       "   Distance      Count\n",
       "0       1.0  1466047.0\n",
       "1       2.0   527979.0\n",
       "2       3.0   256832.0\n",
       "3       4.0   149450.0\n",
       "4       5.0    97222.0\n",
       "5       6.0    68187.0\n",
       "6       7.0    50420.0\n",
       "7       8.0    38830.0\n",
       "8       9.0    30801.0\n",
       "9      10.0    24888.0"
      ]
     },
     "execution_count": 19,
     "metadata": {},
     "output_type": "execute_result"
    }
   ],
   "source": [
    "df_hist_data = pd.DataFrame({\n",
    "    'Distance' : distance_array,\n",
    "    'Count' : data_array}\n",
    ")\n",
    "df_hist_data.head(10)"
   ]
  },
  {
   "cell_type": "code",
   "execution_count": 20,
   "metadata": {},
   "outputs": [],
   "source": [
    "df_hist_data.to_csv(\"hist_data_1025.csv\", sep=\",\", index = False, header = False)"
   ]
  }
 ],
 "metadata": {
  "kernelspec": {
   "display_name": "Python 3",
   "language": "python",
   "name": "python3"
  },
  "language_info": {
   "codemirror_mode": {
    "name": "ipython",
    "version": 3
   },
   "file_extension": ".py",
   "mimetype": "text/x-python",
   "name": "python",
   "nbconvert_exporter": "python",
   "pygments_lexer": "ipython3",
   "version": "3.7.9"
  }
 },
 "nbformat": 4,
 "nbformat_minor": 4
}
