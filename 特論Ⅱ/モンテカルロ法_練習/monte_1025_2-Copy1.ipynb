{
 "cells": [
  {
   "cell_type": "code",
   "execution_count": 1,
   "metadata": {},
   "outputs": [],
   "source": [
    "#%matplotlib notebook\n",
    "import numpy as np\n",
    "# 高速化用\n",
    "from numba import njit, f8, i8, b1, void, prange\n",
    "# 実行時間測定用\n",
    "import time\n",
    "# 近似曲線の描画\n",
    "from scipy.interpolate import interp1d\n",
    "# グラフ化用\n",
    "import matplotlib.pyplot as plt\n",
    "from mpl_toolkits.mplot3d import axes3d\n",
    "from matplotlib.ticker import ScalarFormatter\n",
    "import datetime\n",
    "import pytz"
   ]
  },
  {
   "cell_type": "code",
   "execution_count": 2,
   "metadata": {},
   "outputs": [],
   "source": [
    "@njit(cache=True, parallel=True)\n",
    "def count_function(n_count, R, distance_array, data_array, x, y, z):\n",
    "    for h in distance_array:\n",
    "        count = 0\n",
    "        for i in prange(n_count):\n",
    "            if(z[i] > 0):\n",
    "                a = (h/z[i])*x[i]\n",
    "                b = (h/z[i])*y[i]\n",
    "                s = np.sqrt(a**2 + b**2)\n",
    "                if(s < R):\n",
    "                    count += 1\n",
    "        data_array[int(h-1)] = count"
   ]
  },
  {
   "cell_type": "code",
   "execution_count": 3,
   "metadata": {},
   "outputs": [],
   "source": [
    "n_count = 10**7\n",
    "distance = 2.0\n",
    "h_max = 50\n",
    "h_min = 1\n",
    "R = 1.0*distance"
   ]
  },
  {
   "cell_type": "code",
   "execution_count": 4,
   "metadata": {},
   "outputs": [],
   "source": [
    "# https://www.headboost.jp/how-to-create-an-array/#index_id3\n",
    "distance_array = np.linspace(h_min, h_max, num=h_max, endpoint=True)\n",
    "data_array = np.zeros(len(distance_array))"
   ]
  },
  {
   "cell_type": "code",
   "execution_count": 5,
   "metadata": {},
   "outputs": [
    {
     "data": {
      "text/plain": [
       "array([ 1.,  2.,  3.,  4.,  5.,  6.,  7.,  8.,  9., 10., 11., 12., 13.,\n",
       "       14., 15., 16., 17., 18., 19., 20., 21., 22., 23., 24., 25., 26.,\n",
       "       27., 28., 29., 30., 31., 32., 33., 34., 35., 36., 37., 38., 39.,\n",
       "       40., 41., 42., 43., 44., 45., 46., 47., 48., 49., 50.])"
      ]
     },
     "execution_count": 5,
     "metadata": {},
     "output_type": "execute_result"
    }
   ],
   "source": [
    "distance_array"
   ]
  },
  {
   "cell_type": "code",
   "execution_count": 6,
   "metadata": {},
   "outputs": [
    {
     "data": {
      "text/plain": [
       "50"
      ]
     },
     "execution_count": 6,
     "metadata": {},
     "output_type": "execute_result"
    }
   ],
   "source": [
    "len(data_array)"
   ]
  },
  {
   "cell_type": "code",
   "execution_count": 7,
   "metadata": {},
   "outputs": [],
   "source": [
    "np.random.seed(0)\n",
    "theta = np.arccos(1-2*np.random.rand(n_count))\n",
    "r = np.sin(theta)\n",
    "eta = 2*np.pi*np.random.rand(n_count)"
   ]
  },
  {
   "cell_type": "code",
   "execution_count": 8,
   "metadata": {},
   "outputs": [],
   "source": [
    "x = np.cos(theta)\n",
    "y = r * np.sin(eta)\n",
    "z = r * np.cos(eta)"
   ]
  },
  {
   "cell_type": "code",
   "execution_count": 9,
   "metadata": {},
   "outputs": [],
   "source": [
    "count_function(n_count, R, distance_array, data_array, x, y, z)"
   ]
  },
  {
   "cell_type": "code",
   "execution_count": 10,
   "metadata": {},
   "outputs": [],
   "source": [
    "# https://liginc.co.jp/566229\n",
    "curv_fit = interp1d(distance_array, data_array, kind = 'cubic')\n",
    "new_distance = np.linspace(h_min, h_max, num=100, endpoint=True)"
   ]
  },
  {
   "cell_type": "code",
   "execution_count": 11,
   "metadata": {},
   "outputs": [
    {
     "data": {
      "text/plain": [
       "<matplotlib.legend.Legend at 0x1521843ce88>"
      ]
     },
     "execution_count": 11,
     "metadata": {},
     "output_type": "execute_result"
    },
    {
     "data": {
      "image/png": "[encoded data removed]",
      "text/plain": [
       "<Figure size 576x432 with 1 Axes>"
      ]
     },
     "metadata": {},
     "output_type": "display_data"
    }
   ],
   "source": [
    "# グラフ化用\n",
    "fig = plt.figure(\n",
    "    figsize = (8, 6),\n",
    "    facecolor = 'white'\n",
    ")\n",
    "# グラフの背景色の設定\n",
    "ax = fig.add_subplot(1, 1, 1)\n",
    "# グラフ化用\n",
    "ax.plot(distance_array, data_array, '.', label = 'Monte Carlo Simulation', color = 'green')\n",
    "ax.plot(new_distance, curv_fit(new_distance), '--', label = 'Non-Linear Approximation', color = 'orange')\n",
    "\n",
    "ax.yaxis.set_major_formatter(ScalarFormatter(useMathText=True))\n",
    "ax.ticklabel_format(style=\"sci\",  axis=\"y\",scilimits=(0,0))\n",
    "\n",
    "# ラベルの設定\n",
    "ax.set_xlabel(r\"$Distance$[mm]\")\n",
    "ax.set_ylabel(r\"$Count$[cpm]\")\n",
    "# 凡例の設定\n",
    "ax.legend(loc = 'best')"
   ]
  },
  {
   "cell_type": "code",
   "execution_count": 12,
   "metadata": {},
   "outputs": [],
   "source": [
    "time = datetime.datetime.now(pytz.timezone('Asia/Tokyo'))\n",
    "#(年、月、日付、時、分、秒、マイクロ秒)\n",
    "\n",
    "#見やすい形に変換\n",
    "time = time.strftime('%m%d_monte_1025kadai_2.png')\n",
    "# 図の保存\n",
    "fig.savefig(time, facecolor = fig.get_facecolor())"
   ]
  }
 ],
 "metadata": {
  "kernelspec": {
   "display_name": "Python 3 (ipykernel)",
   "language": "python",
   "name": "python3"
  },
  "language_info": {
   "codemirror_mode": {
    "name": "ipython",
    "version": 3
   },
   "file_extension": ".py",
   "mimetype": "text/x-python",
   "name": "python",
   "nbconvert_exporter": "python",
   "pygments_lexer": "ipython3",
   "version": "3.7.9"
  }
 },
 "nbformat": 4,
 "nbformat_minor": 4
}
